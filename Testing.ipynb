{
 "cells": [
  {
   "cell_type": "code",
   "execution_count": 1,
   "id": "b00ddbf7-7ad6-4587-a20a-aacc33e936a4",
   "metadata": {},
   "outputs": [],
   "source": [
    "import pandas as pd\n",
    "import numpy as np"
   ]
  },
  {
   "cell_type": "code",
   "execution_count": 2,
   "id": "2476634b-42fb-49d8-afa6-8257ec7bac4c",
   "metadata": {},
   "outputs": [
    {
     "name": "stdout",
     "output_type": "stream",
     "text": [
      "Dataset loaded successfully.\n"
     ]
    }
   ],
   "source": [
    "# Load the dataset\n",
    "data = pd.read_csv('student-scores.csv')\n",
    "print(\"Dataset loaded successfully.\")"
   ]
  },
  {
   "cell_type": "code",
   "execution_count": 3,
   "id": "2c8eceae-0f0c-4d43-af54-ce3013fc4283",
   "metadata": {},
   "outputs": [
    {
     "name": "stdout",
     "output_type": "stream",
     "text": [
      "   id first_name last_name                                  email  gender  \\\n",
      "0   1       Paul     Casey         paul.casey.1@gslingacademy.com    male   \n",
      "1   2   Danielle  Sandoval  danielle.sandoval.2@gslingacademy.com  female   \n",
      "2   3       Tina   Andrews       tina.andrews.3@gslingacademy.com  female   \n",
      "3   4       Tara     Clark         tara.clark.4@gslingacademy.com  female   \n",
      "4   5    Anthony    Campos     anthony.campos.5@gslingacademy.com    male   \n",
      "\n",
      "   part_time_job  absence_days  extracurricular_activities  \\\n",
      "0          False             3                       False   \n",
      "1          False             2                       False   \n",
      "2          False             9                        True   \n",
      "3          False             5                       False   \n",
      "4          False             5                       False   \n",
      "\n",
      "   weekly_self_study_hours   career_aspiration  math_score  history_score  \\\n",
      "0                       27              Lawyer          73             81   \n",
      "1                       47              Doctor          90             86   \n",
      "2                       13  Government Officer          81             97   \n",
      "3                        3              Artist          71             74   \n",
      "4                       10             Unknown          84             77   \n",
      "\n",
      "   physics_score  chemistry_score  biology_score  english_score  \\\n",
      "0             93               97             63             80   \n",
      "1             96              100             90             88   \n",
      "2             95               96             65             77   \n",
      "3             88               80             89             63   \n",
      "4             65               65             80             74   \n",
      "\n",
      "   geography_score  \n",
      "0               87  \n",
      "1               90  \n",
      "2               94  \n",
      "3               86  \n",
      "4               76  \n"
     ]
    }
   ],
   "source": [
    "# Display the first few rows of the dataset\n",
    "print(data.head())"
   ]
  },
  {
   "cell_type": "code",
   "execution_count": 4,
   "id": "0afaf8b6-2530-4da0-837b-3aaff20142bc",
   "metadata": {},
   "outputs": [
    {
     "name": "stdout",
     "output_type": "stream",
     "text": [
      "id                            0\n",
      "first_name                    0\n",
      "last_name                     0\n",
      "email                         0\n",
      "gender                        0\n",
      "part_time_job                 0\n",
      "absence_days                  0\n",
      "extracurricular_activities    0\n",
      "weekly_self_study_hours       0\n",
      "career_aspiration             0\n",
      "math_score                    0\n",
      "history_score                 0\n",
      "physics_score                 0\n",
      "chemistry_score               0\n",
      "biology_score                 0\n",
      "english_score                 0\n",
      "geography_score               0\n",
      "dtype: int64\n"
     ]
    }
   ],
   "source": [
    "# Check for missing values\n",
    "print(data.isnull().sum())"
   ]
  },
  {
   "cell_type": "code",
   "execution_count": 5,
   "id": "fc7269dc-99c2-4037-8725-b4ae1272898b",
   "metadata": {},
   "outputs": [
    {
     "name": "stdout",
     "output_type": "stream",
     "text": [
      "                id  absence_days  weekly_self_study_hours   math_score  \\\n",
      "count  4375.000000   4375.000000              4375.000000  4375.000000   \n",
      "mean   2188.000000      3.071086                17.553371    83.657371   \n",
      "std    1263.098043      2.234477                11.888113    11.566031   \n",
      "min       1.000000      0.000000                 0.000000    40.000000   \n",
      "25%    1094.500000      1.000000                 5.000000    77.000000   \n",
      "50%    2188.000000      3.000000                17.000000    86.000000   \n",
      "75%    3281.500000      4.000000                28.000000    92.000000   \n",
      "max    4375.000000     10.000000                50.000000   100.000000   \n",
      "\n",
      "       history_score  physics_score  chemistry_score  biology_score  \\\n",
      "count    4375.000000    4375.000000      4375.000000    4375.000000   \n",
      "mean       80.577143      82.721143        80.861943      80.504914   \n",
      "std        11.596573      11.574887        12.079929      12.765065   \n",
      "min        50.000000      50.000000        50.000000      30.000000   \n",
      "25%        71.000000      73.000000        70.000000      71.000000   \n",
      "50%        82.000000      85.000000        82.000000      82.000000   \n",
      "75%        90.000000      92.000000        91.000000      91.000000   \n",
      "max       100.000000     100.000000       100.000000     100.000000   \n",
      "\n",
      "       english_score  geography_score  \n",
      "count    4375.000000      4375.000000  \n",
      "mean       81.988800        81.031314  \n",
      "std        11.321187        10.775049  \n",
      "min        50.000000        60.000000  \n",
      "25%        74.000000        72.000000  \n",
      "50%        84.000000        81.000000  \n",
      "75%        91.000000        90.000000  \n",
      "max        99.000000       100.000000  \n"
     ]
    }
   ],
   "source": [
    "# Basic Statistics\n",
    "print(data.describe())"
   ]
  },
  {
   "cell_type": "code",
   "execution_count": 6,
   "id": "eb189ef4-72e1-4eaa-8596-5da149d8a07e",
   "metadata": {},
   "outputs": [
    {
     "name": "stdout",
     "output_type": "stream",
     "text": [
      "id                             int64\n",
      "first_name                    object\n",
      "last_name                     object\n",
      "email                         object\n",
      "gender                        object\n",
      "part_time_job                   bool\n",
      "absence_days                   int64\n",
      "extracurricular_activities      bool\n",
      "weekly_self_study_hours        int64\n",
      "career_aspiration             object\n",
      "math_score                     int64\n",
      "history_score                  int64\n",
      "physics_score                  int64\n",
      "chemistry_score                int64\n",
      "biology_score                  int64\n",
      "english_score                  int64\n",
      "geography_score                int64\n",
      "dtype: object\n"
     ]
    }
   ],
   "source": [
    "# Check the data types of each column\n",
    "print(data.dtypes)"
   ]
  },
  {
   "cell_type": "code",
   "execution_count": 7,
   "id": "8abca331-3ca7-4860-8a41-29a732f42182",
   "metadata": {},
   "outputs": [
    {
     "name": "stdout",
     "output_type": "stream",
     "text": [
      "career_aspiration\n",
      "Software Engineer        315\n",
      "Business Owner           309\n",
      "Lawyer                   252\n",
      "Writer                   252\n",
      "Stock Investor           252\n",
      "Game Developer           252\n",
      "Construction Engineer    252\n",
      "Designer                 252\n",
      "Accountant               252\n",
      "Scientist                252\n",
      "Banker                   252\n",
      "Doctor                   252\n",
      "Teacher                  252\n",
      "Artist                   252\n",
      "Government Officer       252\n",
      "Real Estate Developer    252\n",
      "Unknown                  223\n",
      "Name: count, dtype: int64\n"
     ]
    }
   ],
   "source": [
    "# Check for unique values in career_aspiration\n",
    "print(data['career_aspiration'].value_counts())"
   ]
  },
  {
   "cell_type": "code",
   "execution_count": null,
   "id": "a1d0bcac",
   "metadata": {},
   "outputs": [],
   "source": []
  }
 ],
 "metadata": {
  "kernelspec": {
   "display_name": "venv (3.13.3)",
   "language": "python",
   "name": "python3"
  },
  "language_info": {
   "codemirror_mode": {
    "name": "ipython",
    "version": 3
   },
   "file_extension": ".py",
   "mimetype": "text/x-python",
   "name": "python",
   "nbconvert_exporter": "python",
   "pygments_lexer": "ipython3",
   "version": "3.13.3"
  }
 },
 "nbformat": 4,
 "nbformat_minor": 5
}
